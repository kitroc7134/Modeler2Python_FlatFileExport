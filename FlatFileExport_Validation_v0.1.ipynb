{
 "cells": [
  {
   "cell_type": "markdown",
   "id": "99a006ba",
   "metadata": {},
   "source": [
    "# ライブラリの準備"
   ]
  },
  {
   "cell_type": "code",
   "execution_count": 1,
   "id": "6d8dec5e",
   "metadata": {},
   "outputs": [],
   "source": [
    "import pandas as pd\n",
    "import csv"
   ]
  },
  {
   "cell_type": "markdown",
   "id": "236c8892",
   "metadata": {},
   "source": [
    "# 0. 使用するデータ"
   ]
  },
  {
   "cell_type": "code",
   "execution_count": 2,
   "id": "942885eb",
   "metadata": {},
   "outputs": [],
   "source": [
    "input_file = '../sample_data/sampletranDEPT4en2019S.csv'"
   ]
  },
  {
   "cell_type": "code",
   "execution_count": 3,
   "id": "890ab8a0",
   "metadata": {},
   "outputs": [],
   "source": [
    "df = pd.read_csv(input_file)"
   ]
  },
  {
   "cell_type": "code",
   "execution_count": 4,
   "id": "b3ed13c4",
   "metadata": {},
   "outputs": [
    {
     "data": {
      "text/html": [
       "<div>\n",
       "<style scoped>\n",
       "    .dataframe tbody tr th:only-of-type {\n",
       "        vertical-align: middle;\n",
       "    }\n",
       "\n",
       "    .dataframe tbody tr th {\n",
       "        vertical-align: top;\n",
       "    }\n",
       "\n",
       "    .dataframe thead th {\n",
       "        text-align: right;\n",
       "    }\n",
       "</style>\n",
       "<table border=\"1\" class=\"dataframe\">\n",
       "  <thead>\n",
       "    <tr style=\"text-align: right;\">\n",
       "      <th></th>\n",
       "      <th>CUSTID</th>\n",
       "      <th>SDATE</th>\n",
       "      <th>PRODUCTID</th>\n",
       "      <th>L_CLASS</th>\n",
       "      <th>M_CLASS</th>\n",
       "      <th>SUBTOTAL</th>\n",
       "    </tr>\n",
       "  </thead>\n",
       "  <tbody>\n",
       "    <tr>\n",
       "      <th>0</th>\n",
       "      <td>100001</td>\n",
       "      <td>2019-07-02</td>\n",
       "      <td>9937845</td>\n",
       "      <td>BAG</td>\n",
       "      <td>BAG01</td>\n",
       "      <td>1740</td>\n",
       "    </tr>\n",
       "    <tr>\n",
       "      <th>1</th>\n",
       "      <td>100001</td>\n",
       "      <td>2019-07-09</td>\n",
       "      <td>9903878</td>\n",
       "      <td>BAG</td>\n",
       "      <td>BAG01</td>\n",
       "      <td>3108</td>\n",
       "    </tr>\n",
       "    <tr>\n",
       "      <th>2</th>\n",
       "      <td>100001</td>\n",
       "      <td>2019-08-08</td>\n",
       "      <td>9922209</td>\n",
       "      <td>COSMETICS</td>\n",
       "      <td>COSMETICS03</td>\n",
       "      <td>2888</td>\n",
       "    </tr>\n",
       "    <tr>\n",
       "      <th>3</th>\n",
       "      <td>100001</td>\n",
       "      <td>2019-08-18</td>\n",
       "      <td>9901187</td>\n",
       "      <td>SHOES</td>\n",
       "      <td>SHOES02</td>\n",
       "      <td>2700</td>\n",
       "    </tr>\n",
       "    <tr>\n",
       "      <th>4</th>\n",
       "      <td>100001</td>\n",
       "      <td>2019-08-26</td>\n",
       "      <td>9910507</td>\n",
       "      <td>COSMETICS</td>\n",
       "      <td>COSMETICS03</td>\n",
       "      <td>3385</td>\n",
       "    </tr>\n",
       "  </tbody>\n",
       "</table>\n",
       "</div>"
      ],
      "text/plain": [
       "   CUSTID       SDATE  PRODUCTID    L_CLASS      M_CLASS  SUBTOTAL\n",
       "0  100001  2019-07-02    9937845        BAG        BAG01      1740\n",
       "1  100001  2019-07-09    9903878        BAG        BAG01      3108\n",
       "2  100001  2019-08-08    9922209  COSMETICS  COSMETICS03      2888\n",
       "3  100001  2019-08-18    9901187      SHOES      SHOES02      2700\n",
       "4  100001  2019-08-26    9910507  COSMETICS  COSMETICS03      3385"
      ]
     },
     "execution_count": 4,
     "metadata": {},
     "output_type": "execute_result"
    }
   ],
   "source": [
    "df.head()"
   ]
  },
  {
   "cell_type": "code",
   "execution_count": 5,
   "id": "e78fe8fe",
   "metadata": {},
   "outputs": [
    {
     "data": {
      "text/html": [
       "<div>\n",
       "<style scoped>\n",
       "    .dataframe tbody tr th:only-of-type {\n",
       "        vertical-align: middle;\n",
       "    }\n",
       "\n",
       "    .dataframe tbody tr th {\n",
       "        vertical-align: top;\n",
       "    }\n",
       "\n",
       "    .dataframe thead th {\n",
       "        text-align: right;\n",
       "    }\n",
       "</style>\n",
       "<table border=\"1\" class=\"dataframe\">\n",
       "  <thead>\n",
       "    <tr style=\"text-align: right;\">\n",
       "      <th></th>\n",
       "      <th>CUSTID</th>\n",
       "      <th>PRODUCTID</th>\n",
       "      <th>SUBTOTAL</th>\n",
       "    </tr>\n",
       "  </thead>\n",
       "  <tbody>\n",
       "    <tr>\n",
       "      <th>count</th>\n",
       "      <td>28599.000000</td>\n",
       "      <td>2.859900e+04</td>\n",
       "      <td>28599.000000</td>\n",
       "    </tr>\n",
       "    <tr>\n",
       "      <th>mean</th>\n",
       "      <td>103119.292388</td>\n",
       "      <td>9.906693e+06</td>\n",
       "      <td>4700.068849</td>\n",
       "    </tr>\n",
       "    <tr>\n",
       "      <th>std</th>\n",
       "      <td>1729.037690</td>\n",
       "      <td>9.296016e+03</td>\n",
       "      <td>7750.017308</td>\n",
       "    </tr>\n",
       "    <tr>\n",
       "      <th>min</th>\n",
       "      <td>100001.000000</td>\n",
       "      <td>9.900013e+06</td>\n",
       "      <td>1000.000000</td>\n",
       "    </tr>\n",
       "    <tr>\n",
       "      <th>25%</th>\n",
       "      <td>101606.000000</td>\n",
       "      <td>9.900816e+06</td>\n",
       "      <td>1600.000000</td>\n",
       "    </tr>\n",
       "    <tr>\n",
       "      <th>50%</th>\n",
       "      <td>103171.000000</td>\n",
       "      <td>9.903290e+06</td>\n",
       "      <td>2520.000000</td>\n",
       "    </tr>\n",
       "    <tr>\n",
       "      <th>75%</th>\n",
       "      <td>104631.000000</td>\n",
       "      <td>9.907922e+06</td>\n",
       "      <td>4727.500000</td>\n",
       "    </tr>\n",
       "    <tr>\n",
       "      <th>max</th>\n",
       "      <td>105978.000000</td>\n",
       "      <td>9.945431e+06</td>\n",
       "      <td>217500.000000</td>\n",
       "    </tr>\n",
       "  </tbody>\n",
       "</table>\n",
       "</div>"
      ],
      "text/plain": [
       "              CUSTID     PRODUCTID       SUBTOTAL\n",
       "count   28599.000000  2.859900e+04   28599.000000\n",
       "mean   103119.292388  9.906693e+06    4700.068849\n",
       "std      1729.037690  9.296016e+03    7750.017308\n",
       "min    100001.000000  9.900013e+06    1000.000000\n",
       "25%    101606.000000  9.900816e+06    1600.000000\n",
       "50%    103171.000000  9.903290e+06    2520.000000\n",
       "75%    104631.000000  9.907922e+06    4727.500000\n",
       "max    105978.000000  9.945431e+06  217500.000000"
      ]
     },
     "execution_count": 5,
     "metadata": {},
     "output_type": "execute_result"
    }
   ],
   "source": [
    "df.describe()"
   ]
  },
  {
   "cell_type": "markdown",
   "id": "a6abcafc",
   "metadata": {},
   "source": [
    "# 1. 保存モード"
   ]
  },
  {
   "cell_type": "code",
   "execution_count": 6,
   "id": "643a1101",
   "metadata": {},
   "outputs": [],
   "source": [
    "# 保存モード: 上書き、フィールド名を含める: チェックあり\n",
    "df.to_csv('./output/sampletranDEPT4en2019S.csv', index=False)"
   ]
  },
  {
   "cell_type": "code",
   "execution_count": 7,
   "id": "10fca020",
   "metadata": {},
   "outputs": [],
   "source": [
    "# 保存モード: 上書き、フィールド名を含める: チェックなし\n",
    "df.to_csv('./output/sampletranDEPT4en2019S.csv', index=False, header=None)"
   ]
  },
  {
   "cell_type": "code",
   "execution_count": 8,
   "id": "4e7ccc0f",
   "metadata": {},
   "outputs": [],
   "source": [
    "# 保存モード: レコード追加\n",
    "df.to_csv('./output/sampletranDEPT4en2019S.csv', index=False, header=None, mode='a')"
   ]
  },
  {
   "cell_type": "markdown",
   "id": "3ce93a53",
   "metadata": {},
   "source": [
    "# 2. 各レコードの後に改行を入れる"
   ]
  },
  {
   "cell_type": "code",
   "execution_count": 14,
   "id": "b2b8b31e",
   "metadata": {},
   "outputs": [],
   "source": [
    "# 各レコードの後に改行を入れる: チェックあり\n",
    "df.to_csv('./output/sampletranDEPT4en2019S.csv', index=False, line_terminator=None)\n",
    "\n",
    "# line_terminator='\\n'と、改行を指定してもよい\n",
    "df.to_csv('./output/sampletranDEPT4en2019S.csv', index=False, line_terminator='\\n')\n",
    "\n",
    "# to_csvはデフォルトでline_terminator=Noneを選択するため、指定しなくてもよい\n",
    "df.to_csv('./output/sampletranDEPT4en2019S.csv', index=False)"
   ]
  },
  {
   "cell_type": "code",
   "execution_count": 15,
   "id": "2d8a108b",
   "metadata": {},
   "outputs": [],
   "source": [
    "# 各レコードの後に改行を入れる: チェックなし\n",
    "df.to_csv('./output/sampletranDEPT4en2019S.csv', index=False, line_terminator=',')"
   ]
  },
  {
   "cell_type": "markdown",
   "id": "ce20e07d",
   "metadata": {},
   "source": [
    "# 3. フィールド区切り文字"
   ]
  },
  {
   "cell_type": "code",
   "execution_count": 20,
   "id": "0af72073",
   "metadata": {},
   "outputs": [],
   "source": [
    "# フィールド区切り文字: カンマ\n",
    "df.to_csv('./output/sampletranDEPT4en2019S.csv', index=False, sep=',')\n",
    "\n",
    "# to_csvはデフォルトでsep=','を選択するため、指定しなくてもよい\n",
    "df.to_csv('./output/sampletranDEPT4en2019S.csv', index=False)"
   ]
  },
  {
   "cell_type": "code",
   "execution_count": 16,
   "id": "3e5fcebd",
   "metadata": {},
   "outputs": [],
   "source": [
    "# フィールド区切り文字: タブ\n",
    "# この場合ファイルの拡張子がtsvとなることに注意されたい\n",
    "df.to_csv('./output/sampletranDEPT4en2019S.tsv', index=False, sep='\\t')"
   ]
  },
  {
   "cell_type": "code",
   "execution_count": 17,
   "id": "aca07062",
   "metadata": {},
   "outputs": [],
   "source": [
    "# フィールド区切り文字: スペース\n",
    "df.to_csv('./output/sampletranDEPT4en2019S.csv', index=False, sep=' ')"
   ]
  },
  {
   "cell_type": "code",
   "execution_count": 18,
   "id": "22bd0fab",
   "metadata": {},
   "outputs": [],
   "source": [
    "# フィールド区切り文字: その他\n",
    "# to_csvのsep引数に任意の文字を指定すればよい\n",
    "# ここでは例として改行(\\n)を指定する\n",
    "df.to_csv('./output/sampletranDEPT4en2019S.csv', index=False, sep='\\n')"
   ]
  },
  {
   "cell_type": "markdown",
   "id": "2beb9a72",
   "metadata": {},
   "source": [
    "# 4. シンボル値の引用符"
   ]
  },
  {
   "cell_type": "code",
   "execution_count": 56,
   "id": "e5c083ed",
   "metadata": {
    "scrolled": true
   },
   "outputs": [],
   "source": [
    "# シンボル値の引用符: なし\n",
    "df.to_csv('./output/sampletranDEPT4en2019S.csv', index=False, quoting=csv.QUOTE_NONNUMERIC)"
   ]
  },
  {
   "cell_type": "code",
   "execution_count": 55,
   "id": "03a4e327",
   "metadata": {},
   "outputs": [],
   "source": [
    "# シンボル値の引用符: 単一(')\n",
    "df.to_csv('./output/sampletranDEPT4en2019S.csv', index=False, quoting=csv.QUOTE_NONNUMERIC, quotechar=\"'\")"
   ]
  },
  {
   "cell_type": "code",
   "execution_count": 33,
   "id": "48ccc53d",
   "metadata": {},
   "outputs": [],
   "source": [
    "# シンボル値の引用符: 二重(\")\n",
    "df.to_csv('./output/sampletranDEPT4en2019S.csv', index=False, quoting=csv.QUOTE_NONNUMERIC, quotechar='\"')"
   ]
  },
  {
   "cell_type": "code",
   "execution_count": 38,
   "id": "ef328170",
   "metadata": {},
   "outputs": [],
   "source": [
    "# シンボル値の引用符: その他\n",
    "# ここでは例としてハイフン(-)を指定する\n",
    "df.to_csv('./output/sampletranDEPT4en2019S.csv', index=False, quoting=csv.QUOTE_NONNUMERIC, quotechar='-')"
   ]
  },
  {
   "cell_type": "markdown",
   "id": "309641fd",
   "metadata": {},
   "source": [
    "# 5. エンコード"
   ]
  },
  {
   "cell_type": "code",
   "execution_count": 39,
   "id": "c2c8d742",
   "metadata": {},
   "outputs": [],
   "source": [
    "# エンコード: UTF-8\n",
    "df.to_csv('./output/sampletranDEPT4en2019S.csv', index=False, encoding='utf-8')\n",
    "\n",
    "# to_csvはデフォルトでencoding='utf-8'を選択するため、指定しなくてもよい\n",
    "df.to_csv('./output/sampletranDEPT4en2019S.csv', index=False)"
   ]
  },
  {
   "cell_type": "code",
   "execution_count": 42,
   "id": "b6f4cb98",
   "metadata": {},
   "outputs": [],
   "source": [
    "# 他にもshift-jisやcp932など、encodingの引数に指定すればよい\n",
    "# エンコード: SHIFT-JIS\n",
    "df.to_csv('./output/sampletranDEPT4en2019S.csv', index=False, encoding='shift-jis')\n",
    "\n",
    "# エンコード: CP932\n",
    "df.to_csv('./output/sampletranDEPT4en2019S.csv', index=False, encoding='cp932')\n",
    "\n",
    "# エンコード: EUC-JP\n",
    "df.to_csv('./output/sampletranDEPT4en2019S.csv', index=False, encoding='euc-jp')"
   ]
  },
  {
   "cell_type": "markdown",
   "id": "9be9ac66",
   "metadata": {},
   "source": [
    "# 総括"
   ]
  },
  {
   "cell_type": "code",
   "execution_count": 83,
   "id": "417d6f2b",
   "metadata": {},
   "outputs": [],
   "source": [
    "# 1.保存モード - 変数save_modeとinclude_fieldで設定\n",
    "# save_mode: 'overwrite', 'add': 上書きするか、レコード追加するか\n",
    "# include_field: 'yes', 'no': フィールド名を含めるかどうか\n",
    "save_mode = 'overwrite' \n",
    "include_field = 'yes'\n",
    "\n",
    "# 2.各レコードの後に改行を入れる - 変数new_lineで設定\n",
    "# new_line: 'yes' or 'no': 各レコードの後に改行を入れるかどうか\n",
    "new_line = 'yes'\n",
    "\n",
    "# 3.フィールド区切り文字 - 変数separatorで設定\n",
    "# separator: 'comma', 'tab', 'space', 'other': カンマ区切りか、タブ区切りか、スペース区切りか、その他で区切るか\n",
    "# separator_character: その他で区切る場合、任意の文字を指定する\n",
    "separator = 'comma'\n",
    "separator_character = ''\n",
    "\n",
    "# 4.シンボル値の引用符 - 変数quotationで設定\n",
    "# quotation: 'not used', 'single', 'double', 'other': 引用符を使用しないか、シングルクォーテーションを使用するか、ダブルクォーテーションを使用するか、その他を使用するか\n",
    "# quotation_character: その他の文字を引用符に使用する場合、任意の文字を指定する\n",
    "quotation = 'not used'\n",
    "quotation_character = ''\n",
    "\n",
    "# 5.エンコード - 変数encodingで設定\n",
    "# encoding: 'utf-8', 'other': エンコーディングにUTF-8、その他のいずれを使用するか\n",
    "# encoding_character: エンコーディングにその他を使用する場合、任意のものを指定する(Ex. 'shift-jis', 'cp932', 'euc-jp', etc.)\n",
    "encoding = 'utf-8'\n",
    "encoding_character = ''\n",
    "\n",
    "\n",
    "# SPSS Modelerのフラットファイルのエクスポート機能を総括したPython関数を定義\n",
    "def flat_file_export(df, output_file, save_mode, include_field, new_line, separator, separator_character, quotation, quotation_character, encoding, encoding_character):\n",
    "    # ライブラリの準備\n",
    "    import pandas as pd\n",
    "    import csv\n",
    "    \n",
    "    # 拡張子の設定\n",
    "    extension = '.csv'\n",
    "    \n",
    "    # 1.保存モード\n",
    "    if save_mode == 'overwrite':\n",
    "        mode = 'w'\n",
    "        if include_field == 'yes':\n",
    "            header = True\n",
    "        elif include_field == 'no':\n",
    "            header = None\n",
    "    elif save_mode == 'add':\n",
    "        header = None\n",
    "        mode = 'a'\n",
    "        \n",
    "    # 2.各レコードの後に改行を入れる\n",
    "    if new_line == 'yes':\n",
    "        line_terminator = None\n",
    "    elif new_line == 'no':\n",
    "        if separator == 'comma':\n",
    "            line_terminator = ','\n",
    "        elif separator == 'tab':\n",
    "            line_terminator = '\\t'\n",
    "        elif separator == 'space':\n",
    "            line_terminator = ' '\n",
    "        elif separator == 'other':\n",
    "            line_terminator = separator_character\n",
    "    \n",
    "    # 3.フィールド区切り文字\n",
    "    if separator == 'comma':\n",
    "        sep = ','\n",
    "    elif separator == 'tab':\n",
    "        sep = '\\t'\n",
    "        extension = '.tsv'\n",
    "    elif separator == 'space':\n",
    "        sep = ' '\n",
    "    elif separator == 'other':\n",
    "        sep = separator_character\n",
    "        \n",
    "    # 4.シンボル値の引用符\n",
    "    if quotation == 'not used':\n",
    "        quotechar = '\"'\n",
    "    elif quotation == 'single':\n",
    "        quotechar = \"'\"\n",
    "    elif quotation == 'double':\n",
    "        quotechar = '\"'\n",
    "    elif quotation == 'other':\n",
    "        quotechar = quotation_character\n",
    "        \n",
    "    # 5.エンコード\n",
    "    if encoding == 'utf-8':\n",
    "        encoding = 'utf-8'\n",
    "    elif encoding == 'other':\n",
    "        encoding = encoding_character\n",
    "        \n",
    "    # 拡張子の調整\n",
    "    if extension == '.tsv':\n",
    "        output_file = output_file.replace('.csv', '.tsv')\n",
    "        \n",
    "    # フラットファイルをエクスポート\n",
    "    df.to_csv(\n",
    "        output_file,\n",
    "        header=header,\n",
    "        mode=mode,\n",
    "        line_terminator=line_terminator,\n",
    "        sep=sep,\n",
    "        quoting=csv.QUOTE_NONNUMERIC,\n",
    "        quotechar=quotechar,\n",
    "        encoding=encoding,\n",
    "        index=False\n",
    "    )\n",
    "    \n",
    "    print('フラットファイルのエクスポートを完了しました。')"
   ]
  },
  {
   "cell_type": "markdown",
   "id": "515e7293",
   "metadata": {},
   "source": [
    "# 関数の検証"
   ]
  },
  {
   "cell_type": "markdown",
   "id": "cb686329",
   "metadata": {},
   "source": [
    "# 1. 保存モードで条件分岐"
   ]
  },
  {
   "cell_type": "code",
   "execution_count": 65,
   "id": "37154d3b",
   "metadata": {},
   "outputs": [
    {
     "name": "stdout",
     "output_type": "stream",
     "text": [
      "フラットファイルのエクスポートを完了しました。\n"
     ]
    }
   ],
   "source": [
    "# 1.保存モード - 変数save_modeとinclude_fieldで設定\n",
    "# save_mode: 'overwrite', 'add': 上書きするか、レコード追加するか\n",
    "# include_field: 'yes', 'no': フィールド名を含めるかどうか\n",
    "save_mode = 'overwrite' \n",
    "include_field = 'yes'\n",
    "\n",
    "# 2.各レコードの後に改行を入れる - 変数new_lineで設定\n",
    "# new_line: 'yes' or 'no': 各レコードの後に改行を入れるかどうか\n",
    "new_line = 'yes'\n",
    "\n",
    "# 3.フィールド区切り文字 - 変数separatorで設定\n",
    "# separator: 'comma', 'tab', 'space', 'other': カンマ区切りか、タブ区切りか、スペース区切りか、その他で区切るか\n",
    "# separator_character: その他で区切る場合、任意の文字を指定する\n",
    "separator = 'comma'\n",
    "separator_character = ''\n",
    "\n",
    "# 4.シンボル値の引用符 - 変数quotationで設定\n",
    "# quotation: 'not used', 'single', 'double', 'other': 引用符を使用しないか、シングルクォーテーションを使用するか、ダブルクォーテーションを使用するか、その他を使用するか\n",
    "# quotation_character: その他の文字を引用符に使用する場合、任意の文字を指定する\n",
    "quotation = 'not used'\n",
    "quotation_character = ''\n",
    "\n",
    "# 5.エンコード - 変数encodingで設定\n",
    "# encoding: 'utf-8', 'other': エンコーディングにUTF-8、その他のいずれを使用するか\n",
    "# encoding_character: エンコーディングにその他を使用する場合、任意のものを指定する(Ex. 'shift-jis', 'cp932', 'euc-jp', etc.)\n",
    "encoding = 'utf-8'\n",
    "encoding_character = ''\n",
    "\n",
    "flat_file_export(df, './output/sampletranDEPT4en2019S.csv', save_mode, include_field, new_line, separator, separator_character, quotation, quotation_character, encoding, encoding_character)"
   ]
  },
  {
   "cell_type": "code",
   "execution_count": 64,
   "id": "f916b0e1",
   "metadata": {},
   "outputs": [
    {
     "name": "stdout",
     "output_type": "stream",
     "text": [
      "フラットファイルのエクスポートを完了しました。\n"
     ]
    }
   ],
   "source": [
    "# 1.保存モード - 変数save_modeとinclude_fieldで設定\n",
    "# save_mode: 'overwrite', 'add': 上書きするか、レコード追加するか\n",
    "# include_field: 'yes', 'no': フィールド名を含めるかどうか\n",
    "save_mode = 'overwrite' \n",
    "include_field = 'no'\n",
    "\n",
    "# 2.各レコードの後に改行を入れる - 変数new_lineで設定\n",
    "# new_line: 'yes' or 'no': 各レコードの後に改行を入れるかどうか\n",
    "new_line = 'yes'\n",
    "\n",
    "# 3.フィールド区切り文字 - 変数separatorで設定\n",
    "# separator: 'comma', 'tab', 'space', 'other': カンマ区切りか、タブ区切りか、スペース区切りか、その他で区切るか\n",
    "# separator_character: その他で区切る場合、任意の文字を指定する\n",
    "separator = 'comma'\n",
    "separator_character = ''\n",
    "\n",
    "# 4.シンボル値の引用符 - 変数quotationで設定\n",
    "# quotation: 'not used', 'single', 'double', 'other': 引用符を使用しないか、シングルクォーテーションを使用するか、ダブルクォーテーションを使用するか、その他を使用するか\n",
    "# quotation_character: その他の文字を引用符に使用する場合、任意の文字を指定する\n",
    "quotation = 'not used'\n",
    "quotation_character = ''\n",
    "\n",
    "# 5.エンコード - 変数encodingで設定\n",
    "# encoding: 'utf-8', 'other': エンコーディングにUTF-8、その他のいずれを使用するか\n",
    "# encoding_character: エンコーディングにその他を使用する場合、任意のものを指定する(Ex. 'shift-jis', 'cp932', 'euc-jp', etc.)\n",
    "encoding = 'utf-8'\n",
    "encoding_character = ''\n",
    "\n",
    "flat_file_export(df, './output/sampletranDEPT4en2019S.csv', save_mode, include_field, new_line, separator, separator_character, quotation, quotation_character, encoding, encoding_character)"
   ]
  },
  {
   "cell_type": "code",
   "execution_count": 68,
   "id": "03aa6289",
   "metadata": {},
   "outputs": [
    {
     "name": "stdout",
     "output_type": "stream",
     "text": [
      "フラットファイルのエクスポートを完了しました。\n"
     ]
    }
   ],
   "source": [
    "# 1.保存モード - 変数save_modeとinclude_fieldで設定\n",
    "# save_mode: 'overwrite', 'add': 上書きするか、レコード追加するか\n",
    "# include_field: 'yes', 'no': フィールド名を含めるかどうか\n",
    "save_mode = 'add' \n",
    "include_field = 'no'\n",
    "\n",
    "# 2.各レコードの後に改行を入れる - 変数new_lineで設定\n",
    "# new_line: 'yes' or 'no': 各レコードの後に改行を入れるかどうか\n",
    "new_line = 'yes'\n",
    "\n",
    "# 3.フィールド区切り文字 - 変数separatorで設定\n",
    "# separator: 'comma', 'tab', 'space', 'other': カンマ区切りか、タブ区切りか、スペース区切りか、その他で区切るか\n",
    "# separator_character: その他で区切る場合、任意の文字を指定する\n",
    "separator = 'comma'\n",
    "separator_character = ''\n",
    "\n",
    "# 4.シンボル値の引用符 - 変数quotationで設定\n",
    "# quotation: 'not used', 'single', 'double', 'other': 引用符を使用しないか、シングルクォーテーションを使用するか、ダブルクォーテーションを使用するか、その他を使用するか\n",
    "# quotation_character: その他の文字を引用符に使用する場合、任意の文字を指定する\n",
    "quotation = 'not used'\n",
    "quotation_character = ''\n",
    "\n",
    "# 5.エンコード - 変数encodingで設定\n",
    "# encoding: 'utf-8', 'other': エンコーディングにUTF-8、その他のいずれを使用するか\n",
    "# encoding_character: エンコーディングにその他を使用する場合、任意のものを指定する(Ex. 'shift-jis', 'cp932', 'euc-jp', etc.)\n",
    "encoding = 'utf-8'\n",
    "encoding_character = ''\n",
    "\n",
    "flat_file_export(df, './output/sampletranDEPT4en2019S.csv', save_mode, include_field, new_line, separator, separator_character, quotation, quotation_character, encoding, encoding_character)"
   ]
  },
  {
   "cell_type": "markdown",
   "id": "df44bcef",
   "metadata": {},
   "source": [
    "# 2. 各レコードの後に改行を入れるで条件分岐"
   ]
  },
  {
   "cell_type": "code",
   "execution_count": 69,
   "id": "bca9bdba",
   "metadata": {},
   "outputs": [
    {
     "name": "stdout",
     "output_type": "stream",
     "text": [
      "フラットファイルのエクスポートを完了しました。\n"
     ]
    }
   ],
   "source": [
    "# 1.保存モード - 変数save_modeとinclude_fieldで設定\n",
    "# save_mode: 'overwrite', 'add': 上書きするか、レコード追加するか\n",
    "# include_field: 'yes', 'no': フィールド名を含めるかどうか\n",
    "save_mode = 'overwrite' \n",
    "include_field = 'yes'\n",
    "\n",
    "# 2.各レコードの後に改行を入れる - 変数new_lineで設定\n",
    "# new_line: 'yes' or 'no': 各レコードの後に改行を入れるかどうか\n",
    "new_line = 'yes'\n",
    "\n",
    "# 3.フィールド区切り文字 - 変数separatorで設定\n",
    "# separator: 'comma', 'tab', 'space', 'other': カンマ区切りか、タブ区切りか、スペース区切りか、その他で区切るか\n",
    "# separator_character: その他で区切る場合、任意の文字を指定する\n",
    "separator = 'comma'\n",
    "separator_character = ''\n",
    "\n",
    "# 4.シンボル値の引用符 - 変数quotationで設定\n",
    "# quotation: 'not used', 'single', 'double', 'other': 引用符を使用しないか、シングルクォーテーションを使用するか、ダブルクォーテーションを使用するか、その他を使用するか\n",
    "# quotation_character: その他の文字を引用符に使用する場合、任意の文字を指定する\n",
    "quotation = 'not used'\n",
    "quotation_character = ''\n",
    "\n",
    "# 5.エンコード - 変数encodingで設定\n",
    "# encoding: 'utf-8', 'other': エンコーディングにUTF-8、その他のいずれを使用するか\n",
    "# encoding_character: エンコーディングにその他を使用する場合、任意のものを指定する(Ex. 'shift-jis', 'cp932', 'euc-jp', etc.)\n",
    "encoding = 'utf-8'\n",
    "encoding_character = ''\n",
    "\n",
    "flat_file_export(df, './output/sampletranDEPT4en2019S.csv', save_mode, include_field, new_line, separator, separator_character, quotation, quotation_character, encoding, encoding_character)"
   ]
  },
  {
   "cell_type": "code",
   "execution_count": 70,
   "id": "b7229f77",
   "metadata": {},
   "outputs": [
    {
     "name": "stdout",
     "output_type": "stream",
     "text": [
      "フラットファイルのエクスポートを完了しました。\n"
     ]
    }
   ],
   "source": [
    "# 1.保存モード - 変数save_modeとinclude_fieldで設定\n",
    "# save_mode: 'overwrite', 'add': 上書きするか、レコード追加するか\n",
    "# include_field: 'yes', 'no': フィールド名を含めるかどうか\n",
    "save_mode = 'overwrite' \n",
    "include_field = 'yes'\n",
    "\n",
    "# 2.各レコードの後に改行を入れる - 変数new_lineで設定\n",
    "# new_line: 'yes' or 'no': 各レコードの後に改行を入れるかどうか\n",
    "new_line = 'no'\n",
    "\n",
    "# 3.フィールド区切り文字 - 変数separatorで設定\n",
    "# separator: 'comma', 'tab', 'space', 'other': カンマ区切りか、タブ区切りか、スペース区切りか、その他で区切るか\n",
    "# separator_character: その他で区切る場合、任意の文字を指定する\n",
    "separator = 'comma'\n",
    "separator_character = ''\n",
    "\n",
    "# 4.シンボル値の引用符 - 変数quotationで設定\n",
    "# quotation: 'not used', 'single', 'double', 'other': 引用符を使用しないか、シングルクォーテーションを使用するか、ダブルクォーテーションを使用するか、その他を使用するか\n",
    "# quotation_character: その他の文字を引用符に使用する場合、任意の文字を指定する\n",
    "quotation = 'not used'\n",
    "quotation_character = ''\n",
    "\n",
    "# 5.エンコード - 変数encodingで設定\n",
    "# encoding: 'utf-8', 'other': エンコーディングにUTF-8、その他のいずれを使用するか\n",
    "# encoding_character: エンコーディングにその他を使用する場合、任意のものを指定する(Ex. 'shift-jis', 'cp932', 'euc-jp', etc.)\n",
    "encoding = 'utf-8'\n",
    "encoding_character = ''\n",
    "\n",
    "flat_file_export(df, './output/sampletranDEPT4en2019S.csv', save_mode, include_field, new_line, separator, separator_character, quotation, quotation_character, encoding, encoding_character)"
   ]
  },
  {
   "cell_type": "markdown",
   "id": "248284cd",
   "metadata": {},
   "source": [
    "# 3. フィールド区切り文字で条件分岐"
   ]
  },
  {
   "cell_type": "code",
   "execution_count": 85,
   "id": "7f304d3a",
   "metadata": {},
   "outputs": [
    {
     "name": "stdout",
     "output_type": "stream",
     "text": [
      "フラットファイルのエクスポートを完了しました。\n"
     ]
    }
   ],
   "source": [
    "# 1.保存モード - 変数save_modeとinclude_fieldで設定\n",
    "# save_mode: 'overwrite', 'add': 上書きするか、レコード追加するか\n",
    "# include_field: 'yes', 'no': フィールド名を含めるかどうか\n",
    "save_mode = 'overwrite' \n",
    "include_field = 'yes'\n",
    "\n",
    "# 2.各レコードの後に改行を入れる - 変数new_lineで設定\n",
    "# new_line: 'yes' or 'no': 各レコードの後に改行を入れるかどうか\n",
    "new_line = 'yes'\n",
    "\n",
    "# 3.フィールド区切り文字 - 変数separatorで設定\n",
    "# separator: 'comma', 'tab', 'space', 'other': カンマ区切りか、タブ区切りか、スペース区切りか、その他で区切るか\n",
    "# separator_character: その他で区切る場合、任意の文字を指定する\n",
    "separator = 'comma'\n",
    "separator_character = ''\n",
    "\n",
    "# 4.シンボル値の引用符 - 変数quotationで設定\n",
    "# quotation: 'not used', 'single', 'double', 'other': 引用符を使用しないか、シングルクォーテーションを使用するか、ダブルクォーテーションを使用するか、その他を使用するか\n",
    "# quotation_character: その他の文字を引用符に使用する場合、任意の文字を指定する\n",
    "quotation = 'not used'\n",
    "quotation_character = ''\n",
    "\n",
    "# 5.エンコード - 変数encodingで設定\n",
    "# encoding: 'utf-8', 'other': エンコーディングにUTF-8、その他のいずれを使用するか\n",
    "# encoding_character: エンコーディングにその他を使用する場合、任意のものを指定する(Ex. 'shift-jis', 'cp932', 'euc-jp', etc.)\n",
    "encoding = 'utf-8'\n",
    "encoding_character = ''\n",
    "\n",
    "flat_file_export(df, './output/sampletranDEPT4en2019S.csv', save_mode, include_field, new_line, separator, separator_character, quotation, quotation_character, encoding, encoding_character)"
   ]
  },
  {
   "cell_type": "code",
   "execution_count": 84,
   "id": "576076c2",
   "metadata": {},
   "outputs": [
    {
     "name": "stdout",
     "output_type": "stream",
     "text": [
      "フラットファイルのエクスポートを完了しました。\n"
     ]
    }
   ],
   "source": [
    "# 1.保存モード - 変数save_modeとinclude_fieldで設定\n",
    "# save_mode: 'overwrite', 'add': 上書きするか、レコード追加するか\n",
    "# include_field: 'yes', 'no': フィールド名を含めるかどうか\n",
    "save_mode = 'overwrite' \n",
    "include_field = 'yes'\n",
    "\n",
    "# 2.各レコードの後に改行を入れる - 変数new_lineで設定\n",
    "# new_line: 'yes' or 'no': 各レコードの後に改行を入れるかどうか\n",
    "new_line = 'yes'\n",
    "\n",
    "# 3.フィールド区切り文字 - 変数separatorで設定\n",
    "# separator: 'comma', 'tab', 'space', 'other': カンマ区切りか、タブ区切りか、スペース区切りか、その他で区切るか\n",
    "# separator_character: その他で区切る場合、任意の文字を指定する\n",
    "separator = 'tab'\n",
    "separator_character = ''\n",
    "\n",
    "# 4.シンボル値の引用符 - 変数quotationで設定\n",
    "# quotation: 'not used', 'single', 'double', 'other': 引用符を使用しないか、シングルクォーテーションを使用するか、ダブルクォーテーションを使用するか、その他を使用するか\n",
    "# quotation_character: その他の文字を引用符に使用する場合、任意の文字を指定する\n",
    "quotation = 'not used'\n",
    "quotation_character = ''\n",
    "\n",
    "# 5.エンコード - 変数encodingで設定\n",
    "# encoding: 'utf-8', 'other': エンコーディングにUTF-8、その他のいずれを使用するか\n",
    "# encoding_character: エンコーディングにその他を使用する場合、任意のものを指定する(Ex. 'shift-jis', 'cp932', 'euc-jp', etc.)\n",
    "encoding = 'utf-8'\n",
    "encoding_character = ''\n",
    "\n",
    "flat_file_export(df, './output/sampletranDEPT4en2019S.csv', save_mode, include_field, new_line, separator, separator_character, quotation, quotation_character, encoding, encoding_character)"
   ]
  },
  {
   "cell_type": "code",
   "execution_count": 86,
   "id": "e94f1c17",
   "metadata": {},
   "outputs": [
    {
     "name": "stdout",
     "output_type": "stream",
     "text": [
      "フラットファイルのエクスポートを完了しました。\n"
     ]
    }
   ],
   "source": [
    "# 1.保存モード - 変数save_modeとinclude_fieldで設定\n",
    "# save_mode: 'overwrite', 'add': 上書きするか、レコード追加するか\n",
    "# include_field: 'yes', 'no': フィールド名を含めるかどうか\n",
    "save_mode = 'overwrite' \n",
    "include_field = 'yes'\n",
    "\n",
    "# 2.各レコードの後に改行を入れる - 変数new_lineで設定\n",
    "# new_line: 'yes' or 'no': 各レコードの後に改行を入れるかどうか\n",
    "new_line = 'yes'\n",
    "\n",
    "# 3.フィールド区切り文字 - 変数separatorで設定\n",
    "# separator: 'comma', 'tab', 'space', 'other': カンマ区切りか、タブ区切りか、スペース区切りか、その他で区切るか\n",
    "# separator_character: その他で区切る場合、任意の文字を指定する\n",
    "separator = 'space'\n",
    "separator_character = ''\n",
    "\n",
    "# 4.シンボル値の引用符 - 変数quotationで設定\n",
    "# quotation: 'not used', 'single', 'double', 'other': 引用符を使用しないか、シングルクォーテーションを使用するか、ダブルクォーテーションを使用するか、その他を使用するか\n",
    "# quotation_character: その他の文字を引用符に使用する場合、任意の文字を指定する\n",
    "quotation = 'not used'\n",
    "quotation_character = ''\n",
    "\n",
    "# 5.エンコード - 変数encodingで設定\n",
    "# encoding: 'utf-8', 'other': エンコーディングにUTF-8、その他のいずれを使用するか\n",
    "# encoding_character: エンコーディングにその他を使用する場合、任意のものを指定する(Ex. 'shift-jis', 'cp932', 'euc-jp', etc.)\n",
    "encoding = 'utf-8'\n",
    "encoding_character = ''\n",
    "\n",
    "flat_file_export(df, './output/sampletranDEPT4en2019S.csv', save_mode, include_field, new_line, separator, separator_character, quotation, quotation_character, encoding, encoding_character)"
   ]
  },
  {
   "cell_type": "code",
   "execution_count": 87,
   "id": "1197ebd6",
   "metadata": {},
   "outputs": [
    {
     "name": "stdout",
     "output_type": "stream",
     "text": [
      "フラットファイルのエクスポートを完了しました。\n"
     ]
    }
   ],
   "source": [
    "# 1.保存モード - 変数save_modeとinclude_fieldで設定\n",
    "# save_mode: 'overwrite', 'add': 上書きするか、レコード追加するか\n",
    "# include_field: 'yes', 'no': フィールド名を含めるかどうか\n",
    "save_mode = 'overwrite' \n",
    "include_field = 'yes'\n",
    "\n",
    "# 2.各レコードの後に改行を入れる - 変数new_lineで設定\n",
    "# new_line: 'yes' or 'no': 各レコードの後に改行を入れるかどうか\n",
    "new_line = 'yes'\n",
    "\n",
    "# 3.フィールド区切り文字 - 変数separatorで設定\n",
    "# separator: 'comma', 'tab', 'space', 'other': カンマ区切りか、タブ区切りか、スペース区切りか、その他で区切るか\n",
    "# separator_character: その他で区切る場合、任意の文字を指定する\n",
    "separator = 'other'\n",
    "separator_character = '\\n'\n",
    "\n",
    "# 4.シンボル値の引用符 - 変数quotationで設定\n",
    "# quotation: 'not used', 'single', 'double', 'other': 引用符を使用しないか、シングルクォーテーションを使用するか、ダブルクォーテーションを使用するか、その他を使用するか\n",
    "# quotation_character: その他の文字を引用符に使用する場合、任意の文字を指定する\n",
    "quotation = 'not used'\n",
    "quotation_character = ''\n",
    "\n",
    "# 5.エンコード - 変数encodingで設定\n",
    "# encoding: 'utf-8', 'other': エンコーディングにUTF-8、その他のいずれを使用するか\n",
    "# encoding_character: エンコーディングにその他を使用する場合、任意のものを指定する(Ex. 'shift-jis', 'cp932', 'euc-jp', etc.)\n",
    "encoding = 'utf-8'\n",
    "encoding_character = ''\n",
    "\n",
    "flat_file_export(df, './output/sampletranDEPT4en2019S.csv', save_mode, include_field, new_line, separator, separator_character, quotation, quotation_character, encoding, encoding_character)"
   ]
  },
  {
   "cell_type": "markdown",
   "id": "c0129659",
   "metadata": {},
   "source": [
    "# 4. シンボル値の引用符で条件分岐"
   ]
  },
  {
   "cell_type": "code",
   "execution_count": 88,
   "id": "df9e7cf2",
   "metadata": {},
   "outputs": [
    {
     "name": "stdout",
     "output_type": "stream",
     "text": [
      "フラットファイルのエクスポートを完了しました。\n"
     ]
    }
   ],
   "source": [
    "# 1.保存モード - 変数save_modeとinclude_fieldで設定\n",
    "# save_mode: 'overwrite', 'add': 上書きするか、レコード追加するか\n",
    "# include_field: 'yes', 'no': フィールド名を含めるかどうか\n",
    "save_mode = 'overwrite' \n",
    "include_field = 'yes'\n",
    "\n",
    "# 2.各レコードの後に改行を入れる - 変数new_lineで設定\n",
    "# new_line: 'yes' or 'no': 各レコードの後に改行を入れるかどうか\n",
    "new_line = 'yes'\n",
    "\n",
    "# 3.フィールド区切り文字 - 変数separatorで設定\n",
    "# separator: 'comma', 'tab', 'space', 'other': カンマ区切りか、タブ区切りか、スペース区切りか、その他で区切るか\n",
    "# separator_character: その他で区切る場合、任意の文字を指定する\n",
    "separator = 'comma'\n",
    "separator_character = ''\n",
    "\n",
    "# 4.シンボル値の引用符 - 変数quotationで設定\n",
    "# quotation: 'not used', 'single', 'double', 'other': 引用符を使用しないか、シングルクォーテーションを使用するか、ダブルクォーテーションを使用するか、その他を使用するか\n",
    "# quotation_character: その他の文字を引用符に使用する場合、任意の文字を指定する\n",
    "quotation = 'not used'\n",
    "quotation_character = ''\n",
    "\n",
    "# 5.エンコード - 変数encodingで設定\n",
    "# encoding: 'utf-8', 'other': エンコーディングにUTF-8、その他のいずれを使用するか\n",
    "# encoding_character: エンコーディングにその他を使用する場合、任意のものを指定する(Ex. 'shift-jis', 'cp932', 'euc-jp', etc.)\n",
    "encoding = 'utf-8'\n",
    "encoding_character = ''\n",
    "\n",
    "flat_file_export(df, './output/sampletranDEPT4en2019S.csv', save_mode, include_field, new_line, separator, separator_character, quotation, quotation_character, encoding, encoding_character)"
   ]
  },
  {
   "cell_type": "code",
   "execution_count": 89,
   "id": "089fae58",
   "metadata": {},
   "outputs": [
    {
     "name": "stdout",
     "output_type": "stream",
     "text": [
      "フラットファイルのエクスポートを完了しました。\n"
     ]
    }
   ],
   "source": [
    "# 1.保存モード - 変数save_modeとinclude_fieldで設定\n",
    "# save_mode: 'overwrite', 'add': 上書きするか、レコード追加するか\n",
    "# include_field: 'yes', 'no': フィールド名を含めるかどうか\n",
    "save_mode = 'overwrite' \n",
    "include_field = 'yes'\n",
    "\n",
    "# 2.各レコードの後に改行を入れる - 変数new_lineで設定\n",
    "# new_line: 'yes' or 'no': 各レコードの後に改行を入れるかどうか\n",
    "new_line = 'yes'\n",
    "\n",
    "# 3.フィールド区切り文字 - 変数separatorで設定\n",
    "# separator: 'comma', 'tab', 'space', 'other': カンマ区切りか、タブ区切りか、スペース区切りか、その他で区切るか\n",
    "# separator_character: その他で区切る場合、任意の文字を指定する\n",
    "separator = 'comma'\n",
    "separator_character = ''\n",
    "\n",
    "# 4.シンボル値の引用符 - 変数quotationで設定\n",
    "# quotation: 'not used', 'single', 'double', 'other': 引用符を使用しないか、シングルクォーテーションを使用するか、ダブルクォーテーションを使用するか、その他を使用するか\n",
    "# quotation_character: その他の文字を引用符に使用する場合、任意の文字を指定する\n",
    "quotation = 'single'\n",
    "quotation_character = ''\n",
    "\n",
    "# 5.エンコード - 変数encodingで設定\n",
    "# encoding: 'utf-8', 'other': エンコーディングにUTF-8、その他のいずれを使用するか\n",
    "# encoding_character: エンコーディングにその他を使用する場合、任意のものを指定する(Ex. 'shift-jis', 'cp932', 'euc-jp', etc.)\n",
    "encoding = 'utf-8'\n",
    "encoding_character = ''\n",
    "\n",
    "flat_file_export(df, './output/sampletranDEPT4en2019S.csv', save_mode, include_field, new_line, separator, separator_character, quotation, quotation_character, encoding, encoding_character)"
   ]
  },
  {
   "cell_type": "code",
   "execution_count": 90,
   "id": "74063482",
   "metadata": {},
   "outputs": [
    {
     "name": "stdout",
     "output_type": "stream",
     "text": [
      "フラットファイルのエクスポートを完了しました。\n"
     ]
    }
   ],
   "source": [
    "# 1.保存モード - 変数save_modeとinclude_fieldで設定\n",
    "# save_mode: 'overwrite', 'add': 上書きするか、レコード追加するか\n",
    "# include_field: 'yes', 'no': フィールド名を含めるかどうか\n",
    "save_mode = 'overwrite' \n",
    "include_field = 'yes'\n",
    "\n",
    "# 2.各レコードの後に改行を入れる - 変数new_lineで設定\n",
    "# new_line: 'yes' or 'no': 各レコードの後に改行を入れるかどうか\n",
    "new_line = 'yes'\n",
    "\n",
    "# 3.フィールド区切り文字 - 変数separatorで設定\n",
    "# separator: 'comma', 'tab', 'space', 'other': カンマ区切りか、タブ区切りか、スペース区切りか、その他で区切るか\n",
    "# separator_character: その他で区切る場合、任意の文字を指定する\n",
    "separator = 'comma'\n",
    "separator_character = ''\n",
    "\n",
    "# 4.シンボル値の引用符 - 変数quotationで設定\n",
    "# quotation: 'not used', 'single', 'double', 'other': 引用符を使用しないか、シングルクォーテーションを使用するか、ダブルクォーテーションを使用するか、その他を使用するか\n",
    "# quotation_character: その他の文字を引用符に使用する場合、任意の文字を指定する\n",
    "quotation = 'double'\n",
    "quotation_character = ''\n",
    "\n",
    "# 5.エンコード - 変数encodingで設定\n",
    "# encoding: 'utf-8', 'other': エンコーディングにUTF-8、その他のいずれを使用するか\n",
    "# encoding_character: エンコーディングにその他を使用する場合、任意のものを指定する(Ex. 'shift-jis', 'cp932', 'euc-jp', etc.)\n",
    "encoding = 'utf-8'\n",
    "encoding_character = ''\n",
    "\n",
    "flat_file_export(df, './output/sampletranDEPT4en2019S.csv', save_mode, include_field, new_line, separator, separator_character, quotation, quotation_character, encoding, encoding_character)"
   ]
  },
  {
   "cell_type": "code",
   "execution_count": 91,
   "id": "55f080fc",
   "metadata": {},
   "outputs": [
    {
     "name": "stdout",
     "output_type": "stream",
     "text": [
      "フラットファイルのエクスポートを完了しました。\n"
     ]
    }
   ],
   "source": [
    "# 1.保存モード - 変数save_modeとinclude_fieldで設定\n",
    "# save_mode: 'overwrite', 'add': 上書きするか、レコード追加するか\n",
    "# include_field: 'yes', 'no': フィールド名を含めるかどうか\n",
    "save_mode = 'overwrite' \n",
    "include_field = 'yes'\n",
    "\n",
    "# 2.各レコードの後に改行を入れる - 変数new_lineで設定\n",
    "# new_line: 'yes' or 'no': 各レコードの後に改行を入れるかどうか\n",
    "new_line = 'yes'\n",
    "\n",
    "# 3.フィールド区切り文字 - 変数separatorで設定\n",
    "# separator: 'comma', 'tab', 'space', 'other': カンマ区切りか、タブ区切りか、スペース区切りか、その他で区切るか\n",
    "# separator_character: その他で区切る場合、任意の文字を指定する\n",
    "separator = 'comma'\n",
    "separator_character = ''\n",
    "\n",
    "# 4.シンボル値の引用符 - 変数quotationで設定\n",
    "# quotation: 'not used', 'single', 'double', 'other': 引用符を使用しないか、シングルクォーテーションを使用するか、ダブルクォーテーションを使用するか、その他を使用するか\n",
    "# quotation_character: その他の文字を引用符に使用する場合、任意の文字を指定する\n",
    "quotation = 'other'\n",
    "quotation_character = '-'\n",
    "\n",
    "# 5.エンコード - 変数encodingで設定\n",
    "# encoding: 'utf-8', 'other': エンコーディングにUTF-8、その他のいずれを使用するか\n",
    "# encoding_character: エンコーディングにその他を使用する場合、任意のものを指定する(Ex. 'shift-jis', 'cp932', 'euc-jp', etc.)\n",
    "encoding = 'utf-8'\n",
    "encoding_character = ''\n",
    "\n",
    "flat_file_export(df, './output/sampletranDEPT4en2019S.csv', save_mode, include_field, new_line, separator, separator_character, quotation, quotation_character, encoding, encoding_character)"
   ]
  },
  {
   "cell_type": "markdown",
   "id": "6a41c81b",
   "metadata": {},
   "source": [
    "# 5. エンコードで条件分岐"
   ]
  },
  {
   "cell_type": "code",
   "execution_count": 92,
   "id": "281c0849",
   "metadata": {},
   "outputs": [
    {
     "name": "stdout",
     "output_type": "stream",
     "text": [
      "フラットファイルのエクスポートを完了しました。\n"
     ]
    }
   ],
   "source": [
    "# 1.保存モード - 変数save_modeとinclude_fieldで設定\n",
    "# save_mode: 'overwrite', 'add': 上書きするか、レコード追加するか\n",
    "# include_field: 'yes', 'no': フィールド名を含めるかどうか\n",
    "save_mode = 'overwrite' \n",
    "include_field = 'yes'\n",
    "\n",
    "# 2.各レコードの後に改行を入れる - 変数new_lineで設定\n",
    "# new_line: 'yes' or 'no': 各レコードの後に改行を入れるかどうか\n",
    "new_line = 'yes'\n",
    "\n",
    "# 3.フィールド区切り文字 - 変数separatorで設定\n",
    "# separator: 'comma', 'tab', 'space', 'other': カンマ区切りか、タブ区切りか、スペース区切りか、その他で区切るか\n",
    "# separator_character: その他で区切る場合、任意の文字を指定する\n",
    "separator = 'comma'\n",
    "separator_character = ''\n",
    "\n",
    "# 4.シンボル値の引用符 - 変数quotationで設定\n",
    "# quotation: 'not used', 'single', 'double', 'other': 引用符を使用しないか、シングルクォーテーションを使用するか、ダブルクォーテーションを使用するか、その他を使用するか\n",
    "# quotation_character: その他の文字を引用符に使用する場合、任意の文字を指定する\n",
    "quotation = 'not used'\n",
    "quotation_character = ''\n",
    "\n",
    "# 5.エンコード - 変数encodingで設定\n",
    "# encoding: 'utf-8', 'other': エンコーディングにUTF-8、その他のいずれを使用するか\n",
    "# encoding_character: エンコーディングにその他を使用する場合、任意のものを指定する(Ex. 'shift-jis', 'cp932', 'euc-jp', etc.)\n",
    "encoding = 'utf-8'\n",
    "encoding_character = ''\n",
    "\n",
    "flat_file_export(df, './output/sampletranDEPT4en2019S.csv', save_mode, include_field, new_line, separator, separator_character, quotation, quotation_character, encoding, encoding_character)"
   ]
  },
  {
   "cell_type": "code",
   "execution_count": 93,
   "id": "db070790",
   "metadata": {},
   "outputs": [
    {
     "name": "stdout",
     "output_type": "stream",
     "text": [
      "フラットファイルのエクスポートを完了しました。\n"
     ]
    }
   ],
   "source": [
    "# 1.保存モード - 変数save_modeとinclude_fieldで設定\n",
    "# save_mode: 'overwrite', 'add': 上書きするか、レコード追加するか\n",
    "# include_field: 'yes', 'no': フィールド名を含めるかどうか\n",
    "save_mode = 'overwrite' \n",
    "include_field = 'yes'\n",
    "\n",
    "# 2.各レコードの後に改行を入れる - 変数new_lineで設定\n",
    "# new_line: 'yes' or 'no': 各レコードの後に改行を入れるかどうか\n",
    "new_line = 'yes'\n",
    "\n",
    "# 3.フィールド区切り文字 - 変数separatorで設定\n",
    "# separator: 'comma', 'tab', 'space', 'other': カンマ区切りか、タブ区切りか、スペース区切りか、その他で区切るか\n",
    "# separator_character: その他で区切る場合、任意の文字を指定する\n",
    "separator = 'comma'\n",
    "separator_character = ''\n",
    "\n",
    "# 4.シンボル値の引用符 - 変数quotationで設定\n",
    "# quotation: 'not used', 'single', 'double', 'other': 引用符を使用しないか、シングルクォーテーションを使用するか、ダブルクォーテーションを使用するか、その他を使用するか\n",
    "# quotation_character: その他の文字を引用符に使用する場合、任意の文字を指定する\n",
    "quotation = 'not used'\n",
    "quotation_character = ''\n",
    "\n",
    "# 5.エンコード - 変数encodingで設定\n",
    "# encoding: 'utf-8', 'other': エンコーディングにUTF-8、その他のいずれを使用するか\n",
    "# encoding_character: エンコーディングにその他を使用する場合、任意のものを指定する(Ex. 'shift-jis', 'cp932', 'euc-jp', etc.)\n",
    "encoding = 'other'\n",
    "encoding_character = 'shift-jis'\n",
    "\n",
    "flat_file_export(df, './output/sampletranDEPT4en2019S.csv', save_mode, include_field, new_line, separator, separator_character, quotation, quotation_character, encoding, encoding_character)"
   ]
  },
  {
   "cell_type": "code",
   "execution_count": null,
   "id": "c8cca675",
   "metadata": {},
   "outputs": [],
   "source": []
  }
 ],
 "metadata": {
  "kernelspec": {
   "display_name": "Python 3 (ipykernel)",
   "language": "python",
   "name": "python3"
  },
  "language_info": {
   "codemirror_mode": {
    "name": "ipython",
    "version": 3
   },
   "file_extension": ".py",
   "mimetype": "text/x-python",
   "name": "python",
   "nbconvert_exporter": "python",
   "pygments_lexer": "ipython3",
   "version": "3.8.13"
  }
 },
 "nbformat": 4,
 "nbformat_minor": 5
}
